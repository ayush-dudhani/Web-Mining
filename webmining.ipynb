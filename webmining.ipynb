{
  "nbformat": 4,
  "nbformat_minor": 0,
  "metadata": {
    "colab": {
      "provenance": [],
      "gpuType": "T4",
      "mount_file_id": "15u7TW1QWlwXMx1luHgYc-81kQc23B-vE",
      "authorship_tag": "ABX9TyP1JRmoL9F/Wp5VDyhN31ZC",
      "include_colab_link": true
    },
    "kernelspec": {
      "name": "python3",
      "display_name": "Python 3"
    },
    "language_info": {
      "name": "python"
    },
    "accelerator": "GPU"
  },
  "cells": [
    {
      "cell_type": "markdown",
      "metadata": {
        "id": "view-in-github",
        "colab_type": "text"
      },
      "source": [
        "<a href=\"https://colab.research.google.com/github/ayush-dudhani/Web-Mining/blob/main/webmining.ipynb\" target=\"_parent\"><img src=\"https://colab.research.google.com/assets/colab-badge.svg\" alt=\"Open In Colab\"/></a>"
      ]
    },
    {
      "cell_type": "code",
      "execution_count": null,
      "metadata": {
        "id": "iszPU66ujMOE"
      },
      "outputs": [],
      "source": [
        "import requests\n",
        "from bs4 import BeautifulSoup\n",
        "from vaderSentiment.vaderSentiment import SentimentIntensityAnalyzer\n",
        "import json\n",
        "from sklearn.feature_extraction.text import TfidfVectorizer\n",
        "from sklearn.naive_bayes import MultinomialNB\n",
        "from sklearn.preprocessing import LabelEncoder"
      ]
    },
    {
      "cell_type": "code",
      "source": [
        "def scrape_webpage(url):\n",
        "    response = requests.get(url)\n",
        "    if response.status_code == 200:\n",
        "        soup = BeautifulSoup(response.text, 'html.parser')\n",
        "        h1_element = soup.find('h1', {'class': 'native_story_title'})\n",
        "        if h1_element:\n",
        "            text = h1_element.get_text()\n",
        "            return text\n",
        "    return None"
      ],
      "metadata": {
        "id": "EljGAs6RkOVx"
      },
      "execution_count": null,
      "outputs": []
    },
    {
      "cell_type": "code",
      "source": [
        "def analyze_sentiment(text):\n",
        "    analyzer = SentimentIntensityAnalyzer()\n",
        "    sentiment = analyzer.polarity_scores(text)\n",
        "    return sentiment"
      ],
      "metadata": {
        "id": "dZfTNJFHULQO"
      },
      "execution_count": null,
      "outputs": []
    },
    {
      "cell_type": "code",
      "source": [
        "def get_sentiment_label(compound_score):\n",
        "    if compound_score >= 0.05:\n",
        "        return 'Positive'\n",
        "    elif compound_score <= -0.05:\n",
        "        return 'Negative'\n",
        "    else:\n",
        "        return 'Neutral'"
      ],
      "metadata": {
        "id": "_LQ7JtFHUN3B"
      },
      "execution_count": null,
      "outputs": []
    },
    {
      "cell_type": "code",
      "source": [
        "def read_json_data(file_path):\n",
        "    data = []\n",
        "    with open(file_path, 'r') as json_file:\n",
        "        for line in json_file:\n",
        "            entry = json.loads(line)\n",
        "            headline = entry.get('headline', '')\n",
        "            category = entry.get('category', '')\n",
        "            data.append((headline, category))\n",
        "    return data"
      ],
      "metadata": {
        "id": "G-5G6DHLUQpS"
      },
      "execution_count": null,
      "outputs": []
    },
    {
      "cell_type": "code",
      "source": [
        "def classify_headline(headline, tfidf_vectorizer, classifier):\n",
        "    headline_tfidf = tfidf_vectorizer.transform([headline])\n",
        "    predicted_category = label_encoder.inverse_transform(classifier.predict(headline_tfidf))\n",
        "    return predicted_category[0]"
      ],
      "metadata": {
        "id": "r8MHbJOEUTj0"
      },
      "execution_count": null,
      "outputs": []
    },
    {
      "cell_type": "code",
      "source": [
        "url = 'https://indianexpress.com/article/india/andhra-pradesh-train-accident-live-updates-9004874/'\n",
        "# url = 'https://indianexpress.com/article/explained/explained-economics/3rd-largest-economy-in-3rd-modi-term-anatomy-of-indias-growth-8862361/'\n",
        "# url = 'https://indianexpress.com/article/political-pulse/today-in-politics-kerala-blasts-pinarayi-vijayan-shinde-sena-mp-resigns-maratha-quota-9005188/'\n",
        "text_content = scrape_webpage(url)\n",
        "\n",
        "if text_content:\n",
        "    sentiment_scores = analyze_sentiment(text_content)\n",
        "    sentiment_label = get_sentiment_label(sentiment_scores['compound'])\n",
        "\n",
        "    print(\"Scraped Text:\")\n",
        "    print(text_content)\n",
        "    print(\"Sentiment Scores:\", sentiment_scores)\n",
        "    print(\"Sentiment Label:\", sentiment_label)\n",
        "else:\n",
        "    print(\"Failed to retrieve the web page.\")\n",
        "\n",
        "dataset_path = '/content/drive/MyDrive/News_Category_Dataset_v3.json'\n",
        "json_data = read_json_data(dataset_path)\n",
        "\n",
        "tfidf_vectorizer = TfidfVectorizer(max_features=5000)\n",
        "X_tfidf = tfidf_vectorizer.fit_transform([headline for headline, _ in json_data])\n",
        "\n",
        "label_encoder = LabelEncoder()\n",
        "y_encoded = label_encoder.fit_transform([category for _, category in json_data])\n",
        "\n",
        "classifier = MultinomialNB()\n",
        "classifier.fit(X_tfidf, y_encoded)\n",
        "\n",
        "predicted_category = classify_headline(text_content, tfidf_vectorizer, classifier)\n",
        "\n",
        "print()\n",
        "print(\"News Headline:\", text_content)\n",
        "print(\"Predicted Category:\", predicted_category)"
      ],
      "metadata": {
        "colab": {
          "base_uri": "https://localhost:8080/"
        },
        "id": "S9nv0mohUZOD",
        "outputId": "3cd90b8d-5558-4d9f-8cb4-c3464a96d7f5"
      },
      "execution_count": null,
      "outputs": [
        {
          "output_type": "stream",
          "name": "stdout",
          "text": [
            "Scraped Text:\n",
            "13 dead as two passenger trains collide in Andhra, officials say driver missed red signal\n",
            "Sentiment Scores: {'neg': 0.394, 'neu': 0.606, 'pos': 0.0, 'compound': -0.7783}\n",
            "Sentiment Label: Negative\n",
            "\n",
            "News Headline: 13 dead as two passenger trains collide in Andhra, officials say driver missed red signal\n",
            "Predicted Category: CRIME\n"
          ]
        }
      ]
    },
    {
      "cell_type": "code",
      "source": [],
      "metadata": {
        "id": "8jqVlyzZW8Bq"
      },
      "execution_count": null,
      "outputs": []
    }
  ]
}